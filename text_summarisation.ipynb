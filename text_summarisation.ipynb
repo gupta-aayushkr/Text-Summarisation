{
 "cells": [
  {
   "cell_type": "code",
   "execution_count": 3,
   "metadata": {},
   "outputs": [],
   "source": [
    "import re\n",
    "import nltk"
   ]
  },
  {
   "cell_type": "code",
   "execution_count": 4,
   "metadata": {},
   "outputs": [],
   "source": [
    "## article\n",
    "article_text=\"Just what is agility in the context of software engineering work? Ivar Jacobson [Jac02a] provides a useful discussion: Agility  has become today’s buzzword when describing a modern software process. Everyone is agile. An agile team is a nimble team able to appropriately respond to changes. Change is what software development is very much about. Changes in the software being built, changes to the team members, changes because of new technology, changes of all kinds that may have an impact on the product they build or the project that creates the product. Support for changes should be built-in everything we do in software, something we embrace because it is the heart and soul of software. An agile team recognizes that software is developed by individuals working in teams and that the skills of these people, their ability to collaborate is at the core for the success of the project.In Jacobson’s view, the pervasiveness of change is the primary driver for agility. Software engineers must be quick on their feet if they are to accommodate the rapid changes that Jacobson describes.  But agility is more than an effective response to change. It also encompasses the philosophy espoused in the manifesto noted at the beginning of this chapter. It encourages team structures and attitudes that make communication (among team members, between technologists and business people, between software engineers and their managers) more facile. It emphasizes rapid delivery of operational software and deemphasizes the importance of intermediate work products (not always a good thing); it adopts the customer as a part of the development team and works to eliminate the “us and them” attitude that continues to pervade many software projects; it recognizes that planning in an uncertain world has its limits and that a project plan must be ﬂ exible.  Agility can be applied to any software process. However, to accomplish this, it is essential that the process be designed in a way that allows the project team to adapt tasks and to streamline them, conduct planning in a way that understands the ﬂ uidity of an agile development approach, eliminate all but the most essential work products and keep them lean, and emphasize an incremental delivery strategy that gets working software to the customer as rapidly as feasible for the product type and operational environment. \""
   ]
  },
  {
   "cell_type": "code",
   "execution_count": 5,
   "metadata": {},
   "outputs": [
    {
     "data": {
      "text/plain": [
       "'just what is agility in the context of software engineering work? ivar jacobson [jac02a] provides a useful discussion: agility  has become today’s buzzword when describing a modern software process. everyone is agile. an agile team is a nimble team able to appropriately respond to changes. change is what software development is very much about. changes in the software being built, changes to the team members, changes because of new technology, changes of all kinds that may have an impact on the product they build or the project that creates the product. support for changes should be built-in everything we do in software, something we embrace because it is the heart and soul of software. an agile team recognizes that software is developed by individuals working in teams and that the skills of these people, their ability to collaborate is at the core for the success of the project.in jacobson’s view, the pervasiveness of change is the primary driver for agility. software engineers must be quick on their feet if they are to accommodate the rapid changes that jacobson describes.  but agility is more than an effective response to change. it also encompasses the philosophy espoused in the manifesto noted at the beginning of this chapter. it encourages team structures and attitudes that make communication (among team members, between technologists and business people, between software engineers and their managers) more facile. it emphasizes rapid delivery of operational software and deemphasizes the importance of intermediate work products (not always a good thing); it adopts the customer as a part of the development team and works to eliminate the “us and them” attitude that continues to pervade many software projects; it recognizes that planning in an uncertain world has its limits and that a project plan must be ﬂ exible.  agility can be applied to any software process. however, to accomplish this, it is essential that the process be designed in a way that allows the project team to adapt tasks and to streamline them, conduct planning in a way that understands the ﬂ uidity of an agile development approach, eliminate all but the most essential work products and keep them lean, and emphasize an incremental delivery strategy that gets working software to the customer as rapidly as feasible for the product type and operational environment. '"
      ]
     },
     "execution_count": 5,
     "metadata": {},
     "output_type": "execute_result"
    }
   ],
   "source": [
    "article_text = article_text.lower()\n",
    "article_text"
   ]
  },
  {
   "cell_type": "code",
   "execution_count": 6,
   "metadata": {},
   "outputs": [
    {
     "data": {
      "text/plain": [
       "'just what is agility in the context of software engineering work ivar jacobson jac a provides a useful discussion agility has become today s buzzword when describing a modern software process everyone is agile an agile team is a nimble team able to appropriately respond to changes change is what software development is very much about changes in the software being built changes to the team members changes because of new technology changes of all kinds that may have an impact on the product they build or the project that creates the product support for changes should be built in everything we do in software something we embrace because it is the heart and soul of software an agile team recognizes that software is developed by individuals working in teams and that the skills of these people their ability to collaborate is at the core for the success of the project in jacobson s view the pervasiveness of change is the primary driver for agility software engineers must be quick on their feet if they are to accommodate the rapid changes that jacobson describes but agility is more than an effective response to change it also encompasses the philosophy espoused in the manifesto noted at the beginning of this chapter it encourages team structures and attitudes that make communication among team members between technologists and business people between software engineers and their managers more facile it emphasizes rapid delivery of operational software and deemphasizes the importance of intermediate work products not always a good thing it adopts the customer as a part of the development team and works to eliminate the us and them attitude that continues to pervade many software projects it recognizes that planning in an uncertain world has its limits and that a project plan must be exible agility can be applied to any software process however to accomplish this it is essential that the process be designed in a way that allows the project team to adapt tasks and to streamline them conduct planning in a way that understands the uidity of an agile development approach eliminate all but the most essential work products and keep them lean and emphasize an incremental delivery strategy that gets working software to the customer as rapidly as feasible for the product type and operational environment '"
      ]
     },
     "execution_count": 6,
     "metadata": {},
     "output_type": "execute_result"
    }
   ],
   "source": [
    "#removing double spaces and not alphabet words\n",
    "clean_text = re.sub('[^a-zA-Z]', ' ', article_text)\n",
    "clean_text = re.sub('\\s+',' ', clean_text)\n",
    "clean_text"
   ]
  },
  {
   "cell_type": "code",
   "execution_count": 7,
   "metadata": {},
   "outputs": [
    {
     "data": {
      "text/plain": [
       "['just what is agility in the context of software engineering work?',\n",
       " 'ivar jacobson [jac02a] provides a useful discussion: agility  has become today’s buzzword when describing a modern software process.',\n",
       " 'everyone is agile.',\n",
       " 'an agile team is a nimble team able to appropriately respond to changes.',\n",
       " 'change is what software development is very much about.',\n",
       " 'changes in the software being built, changes to the team members, changes because of new technology, changes of all kinds that may have an impact on the product they build or the project that creates the product.',\n",
       " 'support for changes should be built-in everything we do in software, something we embrace because it is the heart and soul of software.',\n",
       " 'an agile team recognizes that software is developed by individuals working in teams and that the skills of these people, their ability to collaborate is at the core for the success of the project.in jacobson’s view, the pervasiveness of change is the primary driver for agility.',\n",
       " 'software engineers must be quick on their feet if they are to accommodate the rapid changes that jacobson describes.',\n",
       " 'but agility is more than an effective response to change.',\n",
       " 'it also encompasses the philosophy espoused in the manifesto noted at the beginning of this chapter.',\n",
       " 'it encourages team structures and attitudes that make communication (among team members, between technologists and business people, between software engineers and their managers) more facile.',\n",
       " 'it emphasizes rapid delivery of operational software and deemphasizes the importance of intermediate work products (not always a good thing); it adopts the customer as a part of the development team and works to eliminate the “us and them” attitude that continues to pervade many software projects; it recognizes that planning in an uncertain world has its limits and that a project plan must be ﬂ exible.',\n",
       " 'agility can be applied to any software process.',\n",
       " 'however, to accomplish this, it is essential that the process be designed in a way that allows the project team to adapt tasks and to streamline them, conduct planning in a way that understands the ﬂ uidity of an agile development approach, eliminate all but the most essential work products and keep them lean, and emphasize an incremental delivery strategy that gets working software to the customer as rapidly as feasible for the product type and operational environment.']"
      ]
     },
     "execution_count": 7,
     "metadata": {},
     "output_type": "execute_result"
    }
   ],
   "source": [
    "#tokenising article into separate sentence done by nltk\n",
    "sentence_list = nltk.sent_tokenize(article_text)\n",
    "sentence_list"
   ]
  },
  {
   "cell_type": "code",
   "execution_count": 30,
   "metadata": {},
   "outputs": [],
   "source": [
    "# nltk.download('stopwords')\n",
    "stopwords = ['i', 'me', 'my', 'myself', 'we', 'our', 'ours', 'ourselves', 'you', \"you're\", \"you've\", \"you'll\", \"you'd\", 'your', 'yours', 'yourself', 'yourselves', 'he', 'him', 'his', 'himself', 'she', \"she's\", 'her', 'hers', 'herself', 'it', \"it's\", 'its', 'itself', 'they', 'them', 'their', 'theirs', 'themselves', 'what', 'which', 'who', 'whom', 'this', 'that', \"that'll\", 'these', 'those', 'am', 'is', 'are', 'was', 'were', 'be', 'been', 'being', 'have', 'has', 'had', 'having', 'do', 'does', 'did', 'doing', 'a', 'an', 'the', 'and', 'but', 'if', 'or', 'because', 'as', 'until', 'while', 'of', 'at', 'by', 'for', 'with', 'about', 'against', 'between', 'into', 'through', 'during', 'before', 'after', 'above', 'below', 'to', 'from', 'up', 'down', 'in', 'out', 'on', 'off', 'over', 'under', 'again', 'further', 'then', 'once', 'here', 'there', 'when', 'where', 'why', 'how', 'all', 'any', 'both', 'each', 'few', 'more', 'most', 'other', 'some', 'such', 'no', 'nor', 'not', 'only', 'own', 'same', 'so', 'than', 'too', 'very', 's', 't', 'can', 'will', 'just', 'don', \"don't\", 'should', \"should've\", 'now', 'd', 'll', 'm', 'o', 're', 've', 'y', 'ain', 'aren', \"aren't\", 'couldn', \"couldn't\", 'didn', \"didn't\", 'doesn', \"doesn't\", 'hadn', \"hadn't\", 'hasn', \"hasn't\", 'haven', \"haven't\", 'isn', \"isn't\", 'ma', 'mightn', \"mightn't\", 'mustn', \"mustn't\", 'needn', \"needn't\", 'shan', \"shan't\", 'shouldn', \"shouldn't\", 'wasn', \"wasn't\", 'weren', \"weren't\", 'won', \"won't\", 'wouldn', \"wouldn't\"]\n"
   ]
  },
  {
   "cell_type": "code",
   "execution_count": 9,
   "metadata": {},
   "outputs": [],
   "source": [
    "word_frequencies = {}\n",
    "for word in nltk.word_tokenize(clean_text):\n",
    "    if word not in stopwords:\n",
    "        if word not in word_frequencies:\n",
    "            word_frequencies[word] = 1\n",
    "        else:\n",
    "            word_frequencies[word] += 1"
   ]
  },
  {
   "cell_type": "code",
   "execution_count": 12,
   "metadata": {},
   "outputs": [
    {
     "data": {
      "text/plain": [
       "{'agility': 0.38461538461538464,\n",
       " 'context': 0.07692307692307693,\n",
       " 'software': 1.0,\n",
       " 'engineering': 0.07692307692307693,\n",
       " 'work': 0.23076923076923078,\n",
       " 'ivar': 0.07692307692307693,\n",
       " 'jacobson': 0.23076923076923078,\n",
       " 'jac': 0.07692307692307693,\n",
       " 'provides': 0.07692307692307693,\n",
       " 'useful': 0.07692307692307693,\n",
       " 'discussion': 0.07692307692307693,\n",
       " 'become': 0.07692307692307693,\n",
       " 'today': 0.07692307692307693,\n",
       " 'buzzword': 0.07692307692307693,\n",
       " 'describing': 0.07692307692307693,\n",
       " 'modern': 0.07692307692307693,\n",
       " 'process': 0.23076923076923078,\n",
       " 'everyone': 0.07692307692307693,\n",
       " 'agile': 0.3076923076923077,\n",
       " 'team': 0.6153846153846154,\n",
       " 'nimble': 0.07692307692307693,\n",
       " 'able': 0.07692307692307693,\n",
       " 'appropriately': 0.07692307692307693,\n",
       " 'respond': 0.07692307692307693,\n",
       " 'changes': 0.5384615384615384,\n",
       " 'change': 0.23076923076923078,\n",
       " 'development': 0.23076923076923078,\n",
       " 'much': 0.07692307692307693,\n",
       " 'built': 0.15384615384615385,\n",
       " 'members': 0.15384615384615385,\n",
       " 'new': 0.07692307692307693,\n",
       " 'technology': 0.07692307692307693,\n",
       " 'kinds': 0.07692307692307693,\n",
       " 'may': 0.07692307692307693,\n",
       " 'impact': 0.07692307692307693,\n",
       " 'product': 0.23076923076923078,\n",
       " 'build': 0.07692307692307693,\n",
       " 'project': 0.3076923076923077,\n",
       " 'creates': 0.07692307692307693,\n",
       " 'support': 0.07692307692307693,\n",
       " 'everything': 0.07692307692307693,\n",
       " 'something': 0.07692307692307693,\n",
       " 'embrace': 0.07692307692307693,\n",
       " 'heart': 0.07692307692307693,\n",
       " 'soul': 0.07692307692307693,\n",
       " 'recognizes': 0.15384615384615385,\n",
       " 'developed': 0.07692307692307693,\n",
       " 'individuals': 0.07692307692307693,\n",
       " 'working': 0.15384615384615385,\n",
       " 'teams': 0.07692307692307693,\n",
       " 'skills': 0.07692307692307693,\n",
       " 'people': 0.15384615384615385,\n",
       " 'ability': 0.07692307692307693,\n",
       " 'collaborate': 0.07692307692307693,\n",
       " 'core': 0.07692307692307693,\n",
       " 'success': 0.07692307692307693,\n",
       " 'view': 0.07692307692307693,\n",
       " 'pervasiveness': 0.07692307692307693,\n",
       " 'primary': 0.07692307692307693,\n",
       " 'driver': 0.07692307692307693,\n",
       " 'engineers': 0.15384615384615385,\n",
       " 'must': 0.15384615384615385,\n",
       " 'quick': 0.07692307692307693,\n",
       " 'feet': 0.07692307692307693,\n",
       " 'accommodate': 0.07692307692307693,\n",
       " 'rapid': 0.15384615384615385,\n",
       " 'describes': 0.07692307692307693,\n",
       " 'effective': 0.07692307692307693,\n",
       " 'response': 0.07692307692307693,\n",
       " 'also': 0.07692307692307693,\n",
       " 'encompasses': 0.07692307692307693,\n",
       " 'philosophy': 0.07692307692307693,\n",
       " 'espoused': 0.07692307692307693,\n",
       " 'manifesto': 0.07692307692307693,\n",
       " 'noted': 0.07692307692307693,\n",
       " 'beginning': 0.07692307692307693,\n",
       " 'chapter': 0.07692307692307693,\n",
       " 'encourages': 0.07692307692307693,\n",
       " 'structures': 0.07692307692307693,\n",
       " 'attitudes': 0.07692307692307693,\n",
       " 'make': 0.07692307692307693,\n",
       " 'communication': 0.07692307692307693,\n",
       " 'among': 0.07692307692307693,\n",
       " 'technologists': 0.07692307692307693,\n",
       " 'business': 0.07692307692307693,\n",
       " 'managers': 0.07692307692307693,\n",
       " 'facile': 0.07692307692307693,\n",
       " 'emphasizes': 0.07692307692307693,\n",
       " 'delivery': 0.15384615384615385,\n",
       " 'operational': 0.15384615384615385,\n",
       " 'deemphasizes': 0.07692307692307693,\n",
       " 'importance': 0.07692307692307693,\n",
       " 'intermediate': 0.07692307692307693,\n",
       " 'products': 0.15384615384615385,\n",
       " 'always': 0.07692307692307693,\n",
       " 'good': 0.07692307692307693,\n",
       " 'thing': 0.07692307692307693,\n",
       " 'adopts': 0.07692307692307693,\n",
       " 'customer': 0.15384615384615385,\n",
       " 'part': 0.07692307692307693,\n",
       " 'works': 0.07692307692307693,\n",
       " 'eliminate': 0.15384615384615385,\n",
       " 'us': 0.07692307692307693,\n",
       " 'attitude': 0.07692307692307693,\n",
       " 'continues': 0.07692307692307693,\n",
       " 'pervade': 0.07692307692307693,\n",
       " 'many': 0.07692307692307693,\n",
       " 'projects': 0.07692307692307693,\n",
       " 'planning': 0.15384615384615385,\n",
       " 'uncertain': 0.07692307692307693,\n",
       " 'world': 0.07692307692307693,\n",
       " 'limits': 0.07692307692307693,\n",
       " 'plan': 0.07692307692307693,\n",
       " 'exible': 0.07692307692307693,\n",
       " 'applied': 0.07692307692307693,\n",
       " 'however': 0.07692307692307693,\n",
       " 'accomplish': 0.07692307692307693,\n",
       " 'essential': 0.15384615384615385,\n",
       " 'designed': 0.07692307692307693,\n",
       " 'way': 0.15384615384615385,\n",
       " 'allows': 0.07692307692307693,\n",
       " 'adapt': 0.07692307692307693,\n",
       " 'tasks': 0.07692307692307693,\n",
       " 'streamline': 0.07692307692307693,\n",
       " 'conduct': 0.07692307692307693,\n",
       " 'understands': 0.07692307692307693,\n",
       " 'uidity': 0.07692307692307693,\n",
       " 'approach': 0.07692307692307693,\n",
       " 'keep': 0.07692307692307693,\n",
       " 'lean': 0.07692307692307693,\n",
       " 'emphasize': 0.07692307692307693,\n",
       " 'incremental': 0.07692307692307693,\n",
       " 'strategy': 0.07692307692307693,\n",
       " 'gets': 0.07692307692307693,\n",
       " 'rapidly': 0.07692307692307693,\n",
       " 'feasible': 0.07692307692307693,\n",
       " 'type': 0.07692307692307693,\n",
       " 'environment': 0.07692307692307693}"
      ]
     },
     "execution_count": 12,
     "metadata": {},
     "output_type": "execute_result"
    }
   ],
   "source": [
    "maximum_frequency = max(word_frequencies.values())\n",
    "for word in word_frequencies:\n",
    "    word_frequencies[word] = word_frequencies[word]/maximum_frequency\n",
    "word_frequencies"
   ]
  },
  {
   "cell_type": "code",
   "execution_count": 13,
   "metadata": {},
   "outputs": [],
   "source": [
    "sentence_scores = {}\n",
    "\n",
    "for sentence in sentence_list:\n",
    "    for word in nltk.word_tokenize(sentence):\n",
    "        if word in word_frequencies and len(sentence.split(' ')) < 30:\n",
    "            if sentence not in sentence_scores:\n",
    "                sentence_scores[sentence] = word_frequencies[word]\n",
    "            else:\n",
    "                sentence_scores[sentence] += word_frequencies[word]"
   ]
  },
  {
   "cell_type": "code",
   "execution_count": 14,
   "metadata": {},
   "outputs": [
    {
     "data": {
      "text/plain": [
       "{'agility': 0.38461538461538464,\n",
       " 'context': 0.07692307692307693,\n",
       " 'software': 1.0,\n",
       " 'engineering': 0.07692307692307693,\n",
       " 'work': 0.23076923076923078,\n",
       " 'ivar': 0.07692307692307693,\n",
       " 'jacobson': 0.23076923076923078,\n",
       " 'jac': 0.07692307692307693,\n",
       " 'provides': 0.07692307692307693,\n",
       " 'useful': 0.07692307692307693,\n",
       " 'discussion': 0.07692307692307693,\n",
       " 'become': 0.07692307692307693,\n",
       " 'today': 0.07692307692307693,\n",
       " 'buzzword': 0.07692307692307693,\n",
       " 'describing': 0.07692307692307693,\n",
       " 'modern': 0.07692307692307693,\n",
       " 'process': 0.23076923076923078,\n",
       " 'everyone': 0.07692307692307693,\n",
       " 'agile': 0.3076923076923077,\n",
       " 'team': 0.6153846153846154,\n",
       " 'nimble': 0.07692307692307693,\n",
       " 'able': 0.07692307692307693,\n",
       " 'appropriately': 0.07692307692307693,\n",
       " 'respond': 0.07692307692307693,\n",
       " 'changes': 0.5384615384615384,\n",
       " 'change': 0.23076923076923078,\n",
       " 'development': 0.23076923076923078,\n",
       " 'much': 0.07692307692307693,\n",
       " 'built': 0.15384615384615385,\n",
       " 'members': 0.15384615384615385,\n",
       " 'new': 0.07692307692307693,\n",
       " 'technology': 0.07692307692307693,\n",
       " 'kinds': 0.07692307692307693,\n",
       " 'may': 0.07692307692307693,\n",
       " 'impact': 0.07692307692307693,\n",
       " 'product': 0.23076923076923078,\n",
       " 'build': 0.07692307692307693,\n",
       " 'project': 0.3076923076923077,\n",
       " 'creates': 0.07692307692307693,\n",
       " 'support': 0.07692307692307693,\n",
       " 'everything': 0.07692307692307693,\n",
       " 'something': 0.07692307692307693,\n",
       " 'embrace': 0.07692307692307693,\n",
       " 'heart': 0.07692307692307693,\n",
       " 'soul': 0.07692307692307693,\n",
       " 'recognizes': 0.15384615384615385,\n",
       " 'developed': 0.07692307692307693,\n",
       " 'individuals': 0.07692307692307693,\n",
       " 'working': 0.15384615384615385,\n",
       " 'teams': 0.07692307692307693,\n",
       " 'skills': 0.07692307692307693,\n",
       " 'people': 0.15384615384615385,\n",
       " 'ability': 0.07692307692307693,\n",
       " 'collaborate': 0.07692307692307693,\n",
       " 'core': 0.07692307692307693,\n",
       " 'success': 0.07692307692307693,\n",
       " 'view': 0.07692307692307693,\n",
       " 'pervasiveness': 0.07692307692307693,\n",
       " 'primary': 0.07692307692307693,\n",
       " 'driver': 0.07692307692307693,\n",
       " 'engineers': 0.15384615384615385,\n",
       " 'must': 0.15384615384615385,\n",
       " 'quick': 0.07692307692307693,\n",
       " 'feet': 0.07692307692307693,\n",
       " 'accommodate': 0.07692307692307693,\n",
       " 'rapid': 0.15384615384615385,\n",
       " 'describes': 0.07692307692307693,\n",
       " 'effective': 0.07692307692307693,\n",
       " 'response': 0.07692307692307693,\n",
       " 'also': 0.07692307692307693,\n",
       " 'encompasses': 0.07692307692307693,\n",
       " 'philosophy': 0.07692307692307693,\n",
       " 'espoused': 0.07692307692307693,\n",
       " 'manifesto': 0.07692307692307693,\n",
       " 'noted': 0.07692307692307693,\n",
       " 'beginning': 0.07692307692307693,\n",
       " 'chapter': 0.07692307692307693,\n",
       " 'encourages': 0.07692307692307693,\n",
       " 'structures': 0.07692307692307693,\n",
       " 'attitudes': 0.07692307692307693,\n",
       " 'make': 0.07692307692307693,\n",
       " 'communication': 0.07692307692307693,\n",
       " 'among': 0.07692307692307693,\n",
       " 'technologists': 0.07692307692307693,\n",
       " 'business': 0.07692307692307693,\n",
       " 'managers': 0.07692307692307693,\n",
       " 'facile': 0.07692307692307693,\n",
       " 'emphasizes': 0.07692307692307693,\n",
       " 'delivery': 0.15384615384615385,\n",
       " 'operational': 0.15384615384615385,\n",
       " 'deemphasizes': 0.07692307692307693,\n",
       " 'importance': 0.07692307692307693,\n",
       " 'intermediate': 0.07692307692307693,\n",
       " 'products': 0.15384615384615385,\n",
       " 'always': 0.07692307692307693,\n",
       " 'good': 0.07692307692307693,\n",
       " 'thing': 0.07692307692307693,\n",
       " 'adopts': 0.07692307692307693,\n",
       " 'customer': 0.15384615384615385,\n",
       " 'part': 0.07692307692307693,\n",
       " 'works': 0.07692307692307693,\n",
       " 'eliminate': 0.15384615384615385,\n",
       " 'us': 0.07692307692307693,\n",
       " 'attitude': 0.07692307692307693,\n",
       " 'continues': 0.07692307692307693,\n",
       " 'pervade': 0.07692307692307693,\n",
       " 'many': 0.07692307692307693,\n",
       " 'projects': 0.07692307692307693,\n",
       " 'planning': 0.15384615384615385,\n",
       " 'uncertain': 0.07692307692307693,\n",
       " 'world': 0.07692307692307693,\n",
       " 'limits': 0.07692307692307693,\n",
       " 'plan': 0.07692307692307693,\n",
       " 'exible': 0.07692307692307693,\n",
       " 'applied': 0.07692307692307693,\n",
       " 'however': 0.07692307692307693,\n",
       " 'accomplish': 0.07692307692307693,\n",
       " 'essential': 0.15384615384615385,\n",
       " 'designed': 0.07692307692307693,\n",
       " 'way': 0.15384615384615385,\n",
       " 'allows': 0.07692307692307693,\n",
       " 'adapt': 0.07692307692307693,\n",
       " 'tasks': 0.07692307692307693,\n",
       " 'streamline': 0.07692307692307693,\n",
       " 'conduct': 0.07692307692307693,\n",
       " 'understands': 0.07692307692307693,\n",
       " 'uidity': 0.07692307692307693,\n",
       " 'approach': 0.07692307692307693,\n",
       " 'keep': 0.07692307692307693,\n",
       " 'lean': 0.07692307692307693,\n",
       " 'emphasize': 0.07692307692307693,\n",
       " 'incremental': 0.07692307692307693,\n",
       " 'strategy': 0.07692307692307693,\n",
       " 'gets': 0.07692307692307693,\n",
       " 'rapidly': 0.07692307692307693,\n",
       " 'feasible': 0.07692307692307693,\n",
       " 'type': 0.07692307692307693,\n",
       " 'environment': 0.07692307692307693}"
      ]
     },
     "execution_count": 14,
     "metadata": {},
     "output_type": "execute_result"
    }
   ],
   "source": [
    "word_frequencies"
   ]
  },
  {
   "cell_type": "code",
   "execution_count": 15,
   "metadata": {},
   "outputs": [
    {
     "data": {
      "text/plain": [
       "{'just what is agility in the context of software engineering work?': 1.7692307692307694,\n",
       " 'ivar jacobson [jac02a] provides a useful discussion: agility  has become today’s buzzword when describing a modern software process.': 2.5384615384615383,\n",
       " 'everyone is agile.': 0.38461538461538464,\n",
       " 'an agile team is a nimble team able to appropriately respond to changes.': 2.3846153846153846,\n",
       " 'change is what software development is very much about.': 1.5384615384615385,\n",
       " 'support for changes should be built-in everything we do in software, something we embrace because it is the heart and soul of software.': 3.0,\n",
       " 'software engineers must be quick on their feet if they are to accommodate the rapid changes that jacobson describes.': 2.5384615384615383,\n",
       " 'but agility is more than an effective response to change.': 0.7692307692307694,\n",
       " 'it also encompasses the philosophy espoused in the manifesto noted at the beginning of this chapter.': 0.6153846153846154,\n",
       " 'it encourages team structures and attitudes that make communication (among team members, between technologists and business people, between software engineers and their managers) more facile.': 3.4615384615384612,\n",
       " 'agility can be applied to any software process.': 1.6923076923076925}"
      ]
     },
     "execution_count": 15,
     "metadata": {},
     "output_type": "execute_result"
    }
   ],
   "source": [
    "sentence_scores"
   ]
  },
  {
   "cell_type": "code",
   "execution_count": 16,
   "metadata": {},
   "outputs": [
    {
     "name": "stdout",
     "output_type": "stream",
     "text": [
      "it encourages team structures and attitudes that make communication (among team members, between technologists and business people, between software engineers and their managers) more facile. support for changes should be built-in everything we do in software, something we embrace because it is the heart and soul of software. ivar jacobson [jac02a] provides a useful discussion: agility  has become today’s buzzword when describing a modern software process. software engineers must be quick on their feet if they are to accommodate the rapid changes that jacobson describes. an agile team is a nimble team able to appropriately respond to changes.\n"
     ]
    }
   ],
   "source": [
    "import heapq\n",
    "summary = heapq.nlargest(5, sentence_scores, key=sentence_scores.get)\n",
    "\n",
    "print(\" \".join(summary))"
   ]
  },
  {
   "cell_type": "markdown",
   "metadata": {},
   "source": [
    "# 2 - Approach"
   ]
  },
  {
   "cell_type": "code",
   "execution_count": 18,
   "metadata": {},
   "outputs": [],
   "source": [
    "from nltk.cluster.util import cosine_distance\n",
    "import networkx as nx\n",
    "import numpy as np"
   ]
  },
  {
   "cell_type": "code",
   "execution_count": 3,
   "metadata": {},
   "outputs": [],
   "source": [
    "## article\n",
    "article_text=\"Just what is agility in the context of software engineering work? Ivar Jacobson [Jac02a] provides a useful discussion: Agility  has become today’s buzzword when describing a modern software process. Everyone is agile. An agile team is a nimble team able to appropriately respond to changes. Change is what software development is very much about. Changes in the software being built, changes to the team members, changes because of new technology, changes of all kinds that may have an impact on the product they build or the project that creates the product. Support for changes should be built-in everything we do in software, something we embrace because it is the heart and soul of software. An agile team recognizes that software is developed by individuals working in teams and that the skills of these people, their ability to collaborate is at the core for the success of the project.In Jacobson’s view, the pervasiveness of change is the primary driver for agility. Software engineers must be quick on their feet if they are to accommodate the rapid changes that Jacobson describes.  But agility is more than an effective response to change. It also encompasses the philosophy espoused in the manifesto noted at the beginning of this chapter. It encourages team structures and attitudes that make communication (among team members, between technologists and business people, between software engineers and their managers) more facile. It emphasizes rapid delivery of operational software and deemphasizes the importance of intermediate work products (not always a good thing); it adopts the customer as a part of the development team and works to eliminate the “us and them” attitude that continues to pervade many software projects; it recognizes that planning in an uncertain world has its limits and that a project plan must be ﬂ exible.  Agility can be applied to any software process. However, to accomplish this, it is essential that the process be designed in a way that allows the project team to adapt tasks and to streamline them, conduct planning in a way that understands the ﬂ uidity of an agile development approach, eliminate all but the most essential work products and keep them lean, and emphasize an incremental delivery strategy that gets working software to the customer as rapidly as feasible for the product type and operational environment. \""
   ]
  },
  {
   "cell_type": "code",
   "execution_count": 54,
   "metadata": {},
   "outputs": [],
   "source": [
    "def read_article(file_name):\n",
    "    with open(\"msft.txt\", \"r\") as file:\n",
    "        # Read the entire file content\n",
    "        filedata = file.read()\n",
    "    # filedata = file.readline()\n",
    "    print(filedata)\n",
    "    article = filedata.split(\". \")\n",
    "    print(article)\n",
    "    sentences=[]\n",
    "    for i in article:\n",
    "        sentences.append(i.replace(\"[^a-zA-Z]\",\" \").split(\" \"))\n",
    "        # sentences.pop()\n",
    "    print(sentences)\n",
    "    return sentences\n"
   ]
  },
  {
   "cell_type": "code",
   "execution_count": 24,
   "metadata": {},
   "outputs": [],
   "source": [
    "def sentence_similarity(sent1, sent2, stopwords=None):\n",
    "    if stopwords in None:\n",
    "        stopwords = []\n",
    "    sent1 = [w.lower() for w in sent1]\n",
    "    sent2 = [w.lower() for w in sent2]\n",
    "    all_words = list(set(sent1+sent2))\n",
    "    \n",
    "    vector1 = [0] * len(all_words)\n",
    "    vector2 = [0] * len(all_words)\n",
    "    for w in sent1:\n",
    "        if w in stopwords:\n",
    "            continue\n",
    "        vector1[all_words.index(w)] +=1\n",
    "    for w in sent2:\n",
    "        if w in stopwords:\n",
    "            continue\n",
    "        vector2[all_words.index(w)] +=1\n",
    "    return 1-consine_distance(vector1, vector2)"
   ]
  },
  {
   "cell_type": "code",
   "execution_count": 27,
   "metadata": {},
   "outputs": [],
   "source": [
    "def gen_sim_matrix(sentences, stop_words):\n",
    "    similarity_matrix = np.zeros((len(sentences), len(sentences)))\n",
    "    for idx1 in range(len(sentences)):\n",
    "        for idx2 in range(len(sentences)):\n",
    "            if idx1 == idx2:\n",
    "                    continue\n",
    "            similarity_matrix[idx1][idx2]=sentence_similarity(sentences[idx1],sentences[idx2])\n",
    "    return similarity_matrix"
   ]
  },
  {
   "cell_type": "code",
   "execution_count": 32,
   "metadata": {},
   "outputs": [],
   "source": [
    "def generate_summary(file_name, top_n=5):\n",
    "    stop_words = stopwords\n",
    "    summarize_text = []\n",
    "    sentences = read_article(file_name)\n",
    "    sentence_similarity_matrix = gen_sim_matrix(sentence, stop_words)\n",
    "    sentences_similarity_graph=nx.from_numpy_array(sentence_similarity_matrix)\n",
    "    scores = nx.pagerank(sentences_similarity_graph)\n",
    "    ranked_sentence = sorted(((scores[i],s) for i,s in enumerate(sentences)),reverse=True)\n",
    "    for i in range(top_n):\n",
    "        summarize_text.append(\" \".join(ranked_sentence[i][1]))\n",
    "    print(\"Summary \\n\",\". \".join(summarize_text))"
   ]
  },
  {
   "cell_type": "code",
   "execution_count": 55,
   "metadata": {},
   "outputs": [
    {
     "name": "stdout",
     "output_type": "stream",
     "text": [
      "Microsoft Copilot is an innovative coding companion that has revolutionized the way developers work. With its powerful AI-driven capabilities, Copilot assists programmers in writing efficient and error-free code, making software development faster and more productive than ever before. Whether you're a seasoned developer or just starting out, Copilot is your trusty sidekick in the world of coding. It understands your intent and provides helpful code suggestions in real-time, reducing the need for manual code typing and debugging. This not only boosts your coding speed but also enhances code quality by minimizing common mistakes. Copilot supports a wide range of programming languages and frameworks, making it versatile for various development tasks. Whether you're building a web application, a mobile app, or diving into machine learning projects, Copilot has got you covered with its extensive knowledge and coding expertise. But Copilot is more than just a code generator; it's a collaborative partner. It assists with documentation, offers code explanations, and helps you learn and grow as a developer. It's like having an experienced coding mentor right at your fingertips, available 24/7 to help you tackle coding challenges and create exceptional software. With Microsoft Copilot, coding becomes a more enjoyable and efficient experience. It empowers developers to focus on creativity and problem-solving while taking care of the repetitive and mundane coding tasks. As technology evolves, Copilot keeps up, ensuring that you stay at the forefront of software development.\n",
      "\n",
      "['Microsoft Copilot is an innovative coding companion that has revolutionized the way developers work', 'With its powerful AI-driven capabilities, Copilot assists programmers in writing efficient and error-free code, making software development faster and more productive than ever before', \"Whether you're a seasoned developer or just starting out, Copilot is your trusty sidekick in the world of coding\", 'It understands your intent and provides helpful code suggestions in real-time, reducing the need for manual code typing and debugging', 'This not only boosts your coding speed but also enhances code quality by minimizing common mistakes', 'Copilot supports a wide range of programming languages and frameworks, making it versatile for various development tasks', \"Whether you're building a web application, a mobile app, or diving into machine learning projects, Copilot has got you covered with its extensive knowledge and coding expertise\", \"But Copilot is more than just a code generator; it's a collaborative partner\", 'It assists with documentation, offers code explanations, and helps you learn and grow as a developer', \"It's like having an experienced coding mentor right at your fingertips, available 24/7 to help you tackle coding challenges and create exceptional software\", 'With Microsoft Copilot, coding becomes a more enjoyable and efficient experience', 'It empowers developers to focus on creativity and problem-solving while taking care of the repetitive and mundane coding tasks', 'As technology evolves, Copilot keeps up, ensuring that you stay at the forefront of software development.\\n']\n",
      "[['Microsoft', 'Copilot', 'is', 'an', 'innovative', 'coding', 'companion', 'that', 'has', 'revolutionized', 'the', 'way', 'developers', 'work'], ['With', 'its', 'powerful', 'AI-driven', 'capabilities,', 'Copilot', 'assists', 'programmers', 'in', 'writing', 'efficient', 'and', 'error-free', 'code,', 'making', 'software', 'development', 'faster', 'and', 'more', 'productive', 'than', 'ever', 'before'], ['Whether', \"you're\", 'a', 'seasoned', 'developer', 'or', 'just', 'starting', 'out,', 'Copilot', 'is', 'your', 'trusty', 'sidekick', 'in', 'the', 'world', 'of', 'coding'], ['It', 'understands', 'your', 'intent', 'and', 'provides', 'helpful', 'code', 'suggestions', 'in', 'real-time,', 'reducing', 'the', 'need', 'for', 'manual', 'code', 'typing', 'and', 'debugging'], ['This', 'not', 'only', 'boosts', 'your', 'coding', 'speed', 'but', 'also', 'enhances', 'code', 'quality', 'by', 'minimizing', 'common', 'mistakes'], ['Copilot', 'supports', 'a', 'wide', 'range', 'of', 'programming', 'languages', 'and', 'frameworks,', 'making', 'it', 'versatile', 'for', 'various', 'development', 'tasks'], ['Whether', \"you're\", 'building', 'a', 'web', 'application,', 'a', 'mobile', 'app,', 'or', 'diving', 'into', 'machine', 'learning', 'projects,', 'Copilot', 'has', 'got', 'you', 'covered', 'with', 'its', 'extensive', 'knowledge', 'and', 'coding', 'expertise'], ['But', 'Copilot', 'is', 'more', 'than', 'just', 'a', 'code', 'generator;', \"it's\", 'a', 'collaborative', 'partner'], ['It', 'assists', 'with', 'documentation,', 'offers', 'code', 'explanations,', 'and', 'helps', 'you', 'learn', 'and', 'grow', 'as', 'a', 'developer'], [\"It's\", 'like', 'having', 'an', 'experienced', 'coding', 'mentor', 'right', 'at', 'your', 'fingertips,', 'available', '24/7', 'to', 'help', 'you', 'tackle', 'coding', 'challenges', 'and', 'create', 'exceptional', 'software'], ['With', 'Microsoft', 'Copilot,', 'coding', 'becomes', 'a', 'more', 'enjoyable', 'and', 'efficient', 'experience'], ['It', 'empowers', 'developers', 'to', 'focus', 'on', 'creativity', 'and', 'problem-solving', 'while', 'taking', 'care', 'of', 'the', 'repetitive', 'and', 'mundane', 'coding', 'tasks'], ['As', 'technology', 'evolves,', 'Copilot', 'keeps', 'up,', 'ensuring', 'that', 'you', 'stay', 'at', 'the', 'forefront', 'of', 'software', 'development.\\n']]\n"
     ]
    },
    {
     "ename": "KeyError",
     "evalue": "1",
     "output_type": "error",
     "traceback": [
      "\u001b[0;31m---------------------------------------------------------------------------\u001b[0m",
      "\u001b[0;31mKeyError\u001b[0m                                  Traceback (most recent call last)",
      "\u001b[1;32m/Users/aayushgupta/Desktop/VS Git/Worked/NLP/text_summarisation.ipynb Cell 20\u001b[0m line \u001b[0;36m1\n\u001b[0;32m----> <a href='vscode-notebook-cell:/Users/aayushgupta/Desktop/VS%20Git/Worked/NLP/text_summarisation.ipynb#X26sZmlsZQ%3D%3D?line=0'>1</a>\u001b[0m generate_summary(\u001b[39m\"\u001b[39;49m\u001b[39mmsft.txt\u001b[39;49m\u001b[39m\"\u001b[39;49m, \u001b[39m2\u001b[39;49m)\n",
      "\u001b[1;32m/Users/aayushgupta/Desktop/VS Git/Worked/NLP/text_summarisation.ipynb Cell 20\u001b[0m line \u001b[0;36m8\n\u001b[1;32m      <a href='vscode-notebook-cell:/Users/aayushgupta/Desktop/VS%20Git/Worked/NLP/text_summarisation.ipynb#X26sZmlsZQ%3D%3D?line=5'>6</a>\u001b[0m sentences_similarity_graph\u001b[39m=\u001b[39mnx\u001b[39m.\u001b[39mfrom_numpy_array(sentence_similarity_matrix)\n\u001b[1;32m      <a href='vscode-notebook-cell:/Users/aayushgupta/Desktop/VS%20Git/Worked/NLP/text_summarisation.ipynb#X26sZmlsZQ%3D%3D?line=6'>7</a>\u001b[0m scores \u001b[39m=\u001b[39m nx\u001b[39m.\u001b[39mpagerank(sentences_similarity_graph)\n\u001b[0;32m----> <a href='vscode-notebook-cell:/Users/aayushgupta/Desktop/VS%20Git/Worked/NLP/text_summarisation.ipynb#X26sZmlsZQ%3D%3D?line=7'>8</a>\u001b[0m ranked_sentence \u001b[39m=\u001b[39m \u001b[39msorted\u001b[39;49m(((scores[i],s) \u001b[39mfor\u001b[39;49;00m i,s \u001b[39min\u001b[39;49;00m \u001b[39menumerate\u001b[39;49m(sentences)),reverse\u001b[39m=\u001b[39;49m\u001b[39mTrue\u001b[39;49;00m)\n\u001b[1;32m      <a href='vscode-notebook-cell:/Users/aayushgupta/Desktop/VS%20Git/Worked/NLP/text_summarisation.ipynb#X26sZmlsZQ%3D%3D?line=8'>9</a>\u001b[0m \u001b[39mfor\u001b[39;00m i \u001b[39min\u001b[39;00m \u001b[39mrange\u001b[39m(top_n):\n\u001b[1;32m     <a href='vscode-notebook-cell:/Users/aayushgupta/Desktop/VS%20Git/Worked/NLP/text_summarisation.ipynb#X26sZmlsZQ%3D%3D?line=9'>10</a>\u001b[0m     summarize_text\u001b[39m.\u001b[39mappend(\u001b[39m\"\u001b[39m\u001b[39m \u001b[39m\u001b[39m\"\u001b[39m\u001b[39m.\u001b[39mjoin(ranked_sentence[i][\u001b[39m1\u001b[39m]))\n",
      "\u001b[1;32m/Users/aayushgupta/Desktop/VS Git/Worked/NLP/text_summarisation.ipynb Cell 20\u001b[0m line \u001b[0;36m8\n\u001b[1;32m      <a href='vscode-notebook-cell:/Users/aayushgupta/Desktop/VS%20Git/Worked/NLP/text_summarisation.ipynb#X26sZmlsZQ%3D%3D?line=5'>6</a>\u001b[0m sentences_similarity_graph\u001b[39m=\u001b[39mnx\u001b[39m.\u001b[39mfrom_numpy_array(sentence_similarity_matrix)\n\u001b[1;32m      <a href='vscode-notebook-cell:/Users/aayushgupta/Desktop/VS%20Git/Worked/NLP/text_summarisation.ipynb#X26sZmlsZQ%3D%3D?line=6'>7</a>\u001b[0m scores \u001b[39m=\u001b[39m nx\u001b[39m.\u001b[39mpagerank(sentences_similarity_graph)\n\u001b[0;32m----> <a href='vscode-notebook-cell:/Users/aayushgupta/Desktop/VS%20Git/Worked/NLP/text_summarisation.ipynb#X26sZmlsZQ%3D%3D?line=7'>8</a>\u001b[0m ranked_sentence \u001b[39m=\u001b[39m \u001b[39msorted\u001b[39m(((scores[i],s) \u001b[39mfor\u001b[39;00m i,s \u001b[39min\u001b[39;00m \u001b[39menumerate\u001b[39m(sentences)),reverse\u001b[39m=\u001b[39m\u001b[39mTrue\u001b[39;00m)\n\u001b[1;32m      <a href='vscode-notebook-cell:/Users/aayushgupta/Desktop/VS%20Git/Worked/NLP/text_summarisation.ipynb#X26sZmlsZQ%3D%3D?line=8'>9</a>\u001b[0m \u001b[39mfor\u001b[39;00m i \u001b[39min\u001b[39;00m \u001b[39mrange\u001b[39m(top_n):\n\u001b[1;32m     <a href='vscode-notebook-cell:/Users/aayushgupta/Desktop/VS%20Git/Worked/NLP/text_summarisation.ipynb#X26sZmlsZQ%3D%3D?line=9'>10</a>\u001b[0m     summarize_text\u001b[39m.\u001b[39mappend(\u001b[39m\"\u001b[39m\u001b[39m \u001b[39m\u001b[39m\"\u001b[39m\u001b[39m.\u001b[39mjoin(ranked_sentence[i][\u001b[39m1\u001b[39m]))\n",
      "\u001b[0;31mKeyError\u001b[0m: 1"
     ]
    }
   ],
   "source": [
    "generate_summary(\"msft.txt\", 2)"
   ]
  }
 ],
 "metadata": {
  "kernelspec": {
   "display_name": "Python 3",
   "language": "python",
   "name": "python3"
  },
  "language_info": {
   "codemirror_mode": {
    "name": "ipython",
    "version": 3
   },
   "file_extension": ".py",
   "mimetype": "text/x-python",
   "name": "python",
   "nbconvert_exporter": "python",
   "pygments_lexer": "ipython3",
   "version": "3.10.13"
  },
  "orig_nbformat": 4
 },
 "nbformat": 4,
 "nbformat_minor": 2
}
