{
 "cells": [
  {
   "cell_type": "code",
   "execution_count": 1,
   "metadata": {},
   "outputs": [],
   "source": [
    "import re\n",
    "import nltk\n",
    "# import streamlit as st\n",
    "import heapq\n",
    "from nltk.cluster.util import cosine_distance\n",
    "import networkx as nx\n",
    "import numpy as np\n",
    "import scipy as sp"
   ]
  },
  {
   "cell_type": "code",
   "execution_count": 11,
   "metadata": {},
   "outputs": [
    {
     "name": "stdout",
     "output_type": "stream",
     "text": [
      "Soundboard helps to make your Discord server even more interesting and engaging. Soundboard is a tool that allows you to add different sound effects to your Discord server.  You can also directly upload a soundboard on your Discord server. Your Discord server members can then use these sound effects during a voice call, or members can play these sounds in the voice channel.  But how to set up a soundboard in your Discord server?   This article will guide you through the entire process of how you can use soundboards on your Discord server, how to set them up, what are some of the most popular soundboard applications, and much more\n",
      "summary\n",
      " You can also directly upload a soundboard on your Discord server\n"
     ]
    }
   ],
   "source": [
    "article_text = '''Soundboard helps to make your Discord server even more interesting and engaging. Soundboard is a tool that allows you to add different sound effects to your Discord server.\n",
    "\n",
    "You can also directly upload a soundboard on your Discord server. Your Discord server members can then use these sound effects during a voice call, or members can play these sounds in the voice channel.  But how to set up a soundboard in your Discord server? \n",
    "\n",
    "This article will guide you through the entire process of how you can use soundboards on your Discord server, how to set them up, what are some of the most popular soundboard applications, and much more'''\n",
    "\n",
    "article_text = re.sub(\"\\n\",' ', article_text)\n",
    "print(article_text)\n",
    "\n",
    "\n",
    "Sentence_lines = 1\n",
    "\n",
    "stopwords = ['i', 'me', 'my', 'myself', 'we', 'our', 'ours', 'ourselves', 'you', \"you're\", \"you've\", \"you'll\", \"you'd\", 'your', 'yours', 'yourself', 'yourselves', 'he', 'him', 'his', 'himself', 'she', \"she's\", 'her', 'hers', 'herself', 'it', \"it's\", 'its', 'itself', 'they', 'them', 'their', 'theirs', 'themselves', 'what', 'which', 'who', 'whom', 'this', 'that', \"that'll\", 'these', 'those', 'am', 'is', 'are', 'was', 'were', 'be', 'been', 'being', 'have', 'has', 'had', 'having', 'do', 'does', 'did', 'doing', 'a', 'an', 'the', 'and', 'but', 'if', 'or', 'because', 'as', 'until', 'while', 'of', 'at', 'by', 'for', 'with', 'about', 'against', 'between', 'into', 'through', 'during', 'before', 'after', 'above', 'below', 'to', 'from', 'up', 'down', 'in', 'out', 'on', 'off', 'over', 'under', 'again', 'further', 'then', 'once', 'here', 'there', 'when', 'where', 'why', 'how', 'all', 'any', 'both', 'each', 'few', 'more', 'most', 'other', 'some', 'such', 'no', 'nor', 'not', 'only', 'own', 'same', 'so', 'than', 'too', 'very', 's', 't', 'can', 'will', 'just', 'don', \"don't\", 'should', \"should've\", 'now', 'd', 'll', 'm', 'o', 're', 've', 'y', 'ain', 'aren', \"aren't\", 'couldn', \"couldn't\", 'didn', \"didn't\", 'doesn', \"doesn't\", 'hadn', \"hadn't\", 'hasn', \"hasn't\", 'haven', \"haven't\", 'isn', \"isn't\", 'ma', 'mightn', \"mightn't\", 'mustn', \"mustn't\", 'needn', \"needn't\", 'shan', \"shan't\", 'shouldn', \"shouldn't\", 'wasn', \"wasn't\", 'weren', \"weren't\", 'won', \"won't\", 'wouldn', \"wouldn't\"]\n",
    "\n",
    "def read_article():\n",
    "    # filedata = file.readline()\n",
    "    # print(filedata)\n",
    "    article = article_text.split(\". \")\n",
    "    # print(article)\n",
    "    sentences=[]\n",
    "    for i in article:\n",
    "        sentences.append(i.replace(\"[^a-zA-Z]\",\" \").split(\" \"))\n",
    "        # sentences.pop()\n",
    "    # print(sentences)\n",
    "    return sentences\n",
    "\n",
    "\n",
    "def sentence_similarity(sent1, sent2, stopwords=None):\n",
    "    if stopwords is None:\n",
    "        stopwords = []\n",
    "    sent1 = [w.lower() for w in sent1]\n",
    "    sent2 = [w.lower() for w in sent2]\n",
    "    all_words = list(set(sent1+sent2))\n",
    "    \n",
    "    vector1 = [0] * len(all_words)\n",
    "    vector2 = [0] * len(all_words)\n",
    "    for w in sent1:\n",
    "        if w in stopwords:\n",
    "            continue\n",
    "        vector1[all_words.index(w)] +=1\n",
    "    for w in sent2:\n",
    "        if w in stopwords:\n",
    "            continue\n",
    "        vector2[all_words.index(w)] +=1\n",
    "    return 1-cosine_distance(vector1, vector2)\n",
    "\n",
    "def gen_sim_matrix(sentences, stop_words):\n",
    "    similarity_matrix = np.zeros((len(sentences), len(sentences)))\n",
    "    for idx1 in range(len(sentences)):\n",
    "        for idx2 in range(len(sentences)):\n",
    "            if idx1 == idx2:\n",
    "                    continue\n",
    "            similarity_matrix[idx1][idx2]=sentence_similarity(sentences[idx1],sentences[idx2])\n",
    "    return similarity_matrix\n",
    "\n",
    "def generate_summary(top_n=5):\n",
    "    stop_words = stopwords\n",
    "    summarize_text = []\n",
    "    sentences = read_article()\n",
    "    sentence_similarity_matrix = gen_sim_matrix(sentences, stop_words)\n",
    "    sentences_similarity_graph = nx.from_numpy_array(sentence_similarity_matrix)\n",
    "    scores = nx.pagerank(sentences_similarity_graph)\n",
    "    ranked_sentence = sorted(((scores[i],s) for i,s in enumerate(sentences)),reverse=True)\n",
    "    for i in range(top_n):\n",
    "        summarize_text.append(\" \".join(ranked_sentence[i][1]))\n",
    "#    st. subheader(\"🧮 Cosine Similarity Method\")\n",
    "    print(\"summary\")\n",
    "    print((\". \".join(summarize_text)))\n",
    "\n",
    "generate_summary(Sentence_lines)\n"
   ]
  }
 ],
 "metadata": {
  "kernelspec": {
   "display_name": "Python 3",
   "language": "python",
   "name": "python3"
  },
  "language_info": {
   "codemirror_mode": {
    "name": "ipython",
    "version": 3
   },
   "file_extension": ".py",
   "mimetype": "text/x-python",
   "name": "python",
   "nbconvert_exporter": "python",
   "pygments_lexer": "ipython3",
   "version": "3.10.13"
  },
  "orig_nbformat": 4
 },
 "nbformat": 4,
 "nbformat_minor": 2
}
